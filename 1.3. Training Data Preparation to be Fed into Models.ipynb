{
 "cells": [
  {
   "cell_type": "code",
   "execution_count": 2,
   "metadata": {},
   "outputs": [],
   "source": [
    "import pandas as pd\n",
    "import numpy as np\n",
    "import csv\n",
    "import string"
   ]
  },
  {
   "cell_type": "markdown",
   "metadata": {},
   "source": [
    "## Get relations with their relation type for training"
   ]
  },
  {
   "cell_type": "code",
   "execution_count": 3,
   "metadata": {},
   "outputs": [
    {
     "data": {
      "text/html": [
       "<div>\n",
       "<style scoped>\n",
       "    .dataframe tbody tr th:only-of-type {\n",
       "        vertical-align: middle;\n",
       "    }\n",
       "\n",
       "    .dataframe tbody tr th {\n",
       "        vertical-align: top;\n",
       "    }\n",
       "\n",
       "    .dataframe thead th {\n",
       "        text-align: right;\n",
       "    }\n",
       "</style>\n",
       "<table border=\"1\" class=\"dataframe\">\n",
       "  <thead>\n",
       "    <tr style=\"text-align: right;\">\n",
       "      <th></th>\n",
       "      <th>Type</th>\n",
       "      <th>Id_1</th>\n",
       "      <th>Id_2</th>\n",
       "      <th>Reverse</th>\n",
       "    </tr>\n",
       "  </thead>\n",
       "  <tbody>\n",
       "    <tr>\n",
       "      <th>0</th>\n",
       "      <td>USAGE</td>\n",
       "      <td>H01-1001.5</td>\n",
       "      <td>H01-1001.7</td>\n",
       "      <td>REVERSE</td>\n",
       "    </tr>\n",
       "    <tr>\n",
       "      <th>1</th>\n",
       "      <td>USAGE</td>\n",
       "      <td>H01-1001.9</td>\n",
       "      <td>H01-1001.10</td>\n",
       "      <td>NaN</td>\n",
       "    </tr>\n",
       "    <tr>\n",
       "      <th>2</th>\n",
       "      <td>PART_WHOLE</td>\n",
       "      <td>H01-1001.14</td>\n",
       "      <td>H01-1001.15</td>\n",
       "      <td>REVERSE</td>\n",
       "    </tr>\n",
       "    <tr>\n",
       "      <th>3</th>\n",
       "      <td>MODEL-FEATURE</td>\n",
       "      <td>H01-1017.4</td>\n",
       "      <td>H01-1017.5</td>\n",
       "      <td>NaN</td>\n",
       "    </tr>\n",
       "    <tr>\n",
       "      <th>4</th>\n",
       "      <td>PART_WHOLE</td>\n",
       "      <td>H01-1041.3</td>\n",
       "      <td>H01-1041.4</td>\n",
       "      <td>REVERSE</td>\n",
       "    </tr>\n",
       "  </tbody>\n",
       "</table>\n",
       "</div>"
      ],
      "text/plain": [
       "            Type         Id_1         Id_2  Reverse\n",
       "0          USAGE   H01-1001.5   H01-1001.7  REVERSE\n",
       "1          USAGE   H01-1001.9  H01-1001.10      NaN\n",
       "2     PART_WHOLE  H01-1001.14  H01-1001.15  REVERSE\n",
       "3  MODEL-FEATURE   H01-1017.4   H01-1017.5      NaN\n",
       "4     PART_WHOLE   H01-1041.3   H01-1041.4  REVERSE"
      ]
     },
     "execution_count": 3,
     "metadata": {},
     "output_type": "execute_result"
    }
   ],
   "source": [
    "#training data - relations \n",
    "relations = pd.read_csv(\"relations.csv\") \n",
    "\n",
    "#print(relations)\n",
    "relations.head()"
   ]
  },
  {
   "cell_type": "code",
   "execution_count": 15,
   "metadata": {},
   "outputs": [
    {
     "data": {
      "text/plain": [
       "1228"
      ]
     },
     "execution_count": 15,
     "metadata": {},
     "output_type": "execute_result"
    }
   ],
   "source": [
    "len(relations)"
   ]
  },
  {
   "cell_type": "markdown",
   "metadata": {},
   "source": [
    "- There are 1228 relation pairs in the training set\n",
    "- context.pkl contains the entity context represented by GloVe word embeddings\n",
    "- context_txt.pkl is a dataframe which consists of the absID (the id of the abstract the entity is extracted from), entitiyID (the Id of the entity), context (entity with the sorrounding context)  "
   ]
  },
  {
   "cell_type": "code",
   "execution_count": 4,
   "metadata": {},
   "outputs": [
    {
     "data": {
      "text/html": [
       "<div>\n",
       "<style scoped>\n",
       "    .dataframe tbody tr th:only-of-type {\n",
       "        vertical-align: middle;\n",
       "    }\n",
       "\n",
       "    .dataframe tbody tr th {\n",
       "        vertical-align: top;\n",
       "    }\n",
       "\n",
       "    .dataframe thead th {\n",
       "        text-align: right;\n",
       "    }\n",
       "</style>\n",
       "<table border=\"1\" class=\"dataframe\">\n",
       "  <thead>\n",
       "    <tr style=\"text-align: right;\">\n",
       "      <th></th>\n",
       "      <th>entity_Id</th>\n",
       "      <th>context_vector</th>\n",
       "    </tr>\n",
       "  </thead>\n",
       "  <tbody>\n",
       "    <tr>\n",
       "      <th>0</th>\n",
       "      <td>H01-1001.1</td>\n",
       "      <td>[[-0.40088, 0.38661, -0.53597, -0.081736, 0.37...</td>\n",
       "    </tr>\n",
       "    <tr>\n",
       "      <th>1</th>\n",
       "      <td>H01-1001.2</td>\n",
       "      <td>[[-0.10137, -0.27174, -0.31147, -0.75354, 0.05...</td>\n",
       "    </tr>\n",
       "    <tr>\n",
       "      <th>2</th>\n",
       "      <td>H01-1001.3</td>\n",
       "      <td>[[-0.52579, 0.3754, -0.41452, -0.48975, 0.0334...</td>\n",
       "    </tr>\n",
       "    <tr>\n",
       "      <th>3</th>\n",
       "      <td>H01-1001.4</td>\n",
       "      <td>[[-0.44399, 0.12817, -0.25247, -0.18582, -0.16...</td>\n",
       "    </tr>\n",
       "    <tr>\n",
       "      <th>4</th>\n",
       "      <td>H01-1001.5</td>\n",
       "      <td>[[-1.0001, 0.45166, 0.38212, -0.098643, 0.1492...</td>\n",
       "    </tr>\n",
       "  </tbody>\n",
       "</table>\n",
       "</div>"
      ],
      "text/plain": [
       "    entity_Id                                     context_vector\n",
       "0  H01-1001.1  [[-0.40088, 0.38661, -0.53597, -0.081736, 0.37...\n",
       "1  H01-1001.2  [[-0.10137, -0.27174, -0.31147, -0.75354, 0.05...\n",
       "2  H01-1001.3  [[-0.52579, 0.3754, -0.41452, -0.48975, 0.0334...\n",
       "3  H01-1001.4  [[-0.44399, 0.12817, -0.25247, -0.18582, -0.16...\n",
       "4  H01-1001.5  [[-1.0001, 0.45166, 0.38212, -0.098643, 0.1492..."
      ]
     },
     "execution_count": 4,
     "metadata": {},
     "output_type": "execute_result"
    }
   ],
   "source": [
    "import pickle\n",
    "context = pd.read_pickle('context.pkl')\n",
    "context.head()"
   ]
  },
  {
   "cell_type": "code",
   "execution_count": 5,
   "metadata": {},
   "outputs": [
    {
     "data": {
      "text/html": [
       "<div>\n",
       "<style scoped>\n",
       "    .dataframe tbody tr th:only-of-type {\n",
       "        vertical-align: middle;\n",
       "    }\n",
       "\n",
       "    .dataframe tbody tr th {\n",
       "        vertical-align: top;\n",
       "    }\n",
       "\n",
       "    .dataframe thead th {\n",
       "        text-align: right;\n",
       "    }\n",
       "</style>\n",
       "<table border=\"1\" class=\"dataframe\">\n",
       "  <thead>\n",
       "    <tr style=\"text-align: right;\">\n",
       "      <th></th>\n",
       "      <th>absID</th>\n",
       "      <th>entityID</th>\n",
       "      <th>context</th>\n",
       "    </tr>\n",
       "  </thead>\n",
       "  <tbody>\n",
       "    <tr>\n",
       "      <th>0</th>\n",
       "      <td>H01-1001</td>\n",
       "      <td>H01-1001.1</td>\n",
       "      <td>oral communication is ubiquitous</td>\n",
       "    </tr>\n",
       "    <tr>\n",
       "      <th>1</th>\n",
       "      <td>H01-1001</td>\n",
       "      <td>H01-1001.2</td>\n",
       "      <td>development of storage media and networks one ...</td>\n",
       "    </tr>\n",
       "    <tr>\n",
       "      <th>2</th>\n",
       "      <td>H01-1001</td>\n",
       "      <td>H01-1001.3</td>\n",
       "      <td>store a conversation for documentation.</td>\n",
       "    </tr>\n",
       "    <tr>\n",
       "      <th>3</th>\n",
       "      <td>H01-1001</td>\n",
       "      <td>H01-1001.4</td>\n",
       "      <td>in a large database traditional information</td>\n",
       "    </tr>\n",
       "    <tr>\n",
       "      <th>4</th>\n",
       "      <td>H01-1001</td>\n",
       "      <td>H01-1001.5</td>\n",
       "      <td>database traditional information retrieval tec...</td>\n",
       "    </tr>\n",
       "  </tbody>\n",
       "</table>\n",
       "</div>"
      ],
      "text/plain": [
       "      absID    entityID                                            context\n",
       "0  H01-1001  H01-1001.1                   oral communication is ubiquitous\n",
       "1  H01-1001  H01-1001.2  development of storage media and networks one ...\n",
       "2  H01-1001  H01-1001.3            store a conversation for documentation.\n",
       "3  H01-1001  H01-1001.4        in a large database traditional information\n",
       "4  H01-1001  H01-1001.5  database traditional information retrieval tec..."
      ]
     },
     "execution_count": 5,
     "metadata": {},
     "output_type": "execute_result"
    }
   ],
   "source": [
    "context_txt = pd.read_pickle(\"context_txt.pkl\")\n",
    "context_txt.head()"
   ]
  },
  {
   "cell_type": "code",
   "execution_count": 6,
   "metadata": {},
   "outputs": [],
   "source": [
    "relations_vector_1 = []\n",
    "for i in range(len(relations)):\n",
    "    for j in range(len(context)):\n",
    "        if relations['Id_1'][i] == context['entity_Id'][j]:\n",
    "            relations_vector_1.append(context['context_vector'][j])"
   ]
  },
  {
   "cell_type": "code",
   "execution_count": 13,
   "metadata": {},
   "outputs": [
    {
     "data": {
      "text/plain": [
       "7"
      ]
     },
     "execution_count": 13,
     "metadata": {},
     "output_type": "execute_result"
    }
   ],
   "source": [
    "#print(relations_vector_1[0])\n",
    "len(relations_vector_1[0])"
   ]
  },
  {
   "cell_type": "code",
   "execution_count": 7,
   "metadata": {},
   "outputs": [],
   "source": [
    "relations_vector_2 = []\n",
    "for k in range(len(relations)):\n",
    "    for l in range(len(context)):\n",
    "        if relations['Id_2'][k] == context['entity_Id'][l]:\n",
    "            relations_vector_2.append(context['context_vector'][l])"
   ]
  },
  {
   "cell_type": "code",
   "execution_count": 8,
   "metadata": {},
   "outputs": [
    {
     "data": {
      "text/plain": [
       "5"
      ]
     },
     "execution_count": 8,
     "metadata": {},
     "output_type": "execute_result"
    }
   ],
   "source": [
    "#print(relations_vector_2[0])\n",
    "len(relations_vector_2[0])"
   ]
  },
  {
   "cell_type": "code",
   "execution_count": 9,
   "metadata": {},
   "outputs": [],
   "source": [
    "data = pd.DataFrame({'entity_id_1': relations['Id_1'], 'entity_context_1': relations_vector_1,\n",
    "                     'entity_id_2': relations['Id_2'], 'entity_context_2': relations_vector_2,\n",
    "                     'label': relations['Type']}) "
   ]
  },
  {
   "cell_type": "markdown",
   "metadata": {},
   "source": [
    "This is the entity pair from the relations file. \n",
    "Except entity pairs are also attached in case we want to train the model with the GloVe text representations. "
   ]
  },
  {
   "cell_type": "code",
   "execution_count": 34,
   "metadata": {},
   "outputs": [
    {
     "data": {
      "text/html": [
       "<div>\n",
       "<style scoped>\n",
       "    .dataframe tbody tr th:only-of-type {\n",
       "        vertical-align: middle;\n",
       "    }\n",
       "\n",
       "    .dataframe tbody tr th {\n",
       "        vertical-align: top;\n",
       "    }\n",
       "\n",
       "    .dataframe thead th {\n",
       "        text-align: right;\n",
       "    }\n",
       "</style>\n",
       "<table border=\"1\" class=\"dataframe\">\n",
       "  <thead>\n",
       "    <tr style=\"text-align: right;\">\n",
       "      <th></th>\n",
       "      <th>entity_id_1</th>\n",
       "      <th>entity_context_1</th>\n",
       "      <th>entity_id_2</th>\n",
       "      <th>entity_context_2</th>\n",
       "      <th>label</th>\n",
       "    </tr>\n",
       "  </thead>\n",
       "  <tbody>\n",
       "    <tr>\n",
       "      <th>0</th>\n",
       "      <td>H01-1001.5</td>\n",
       "      <td>[[-1.0001, 0.45166, 0.38212, -0.098643, 0.1492...</td>\n",
       "      <td>H01-1001.7</td>\n",
       "      <td>[[0.019734, -0.072078, 0.66418, 0.050783, 0.01...</td>\n",
       "      <td>USAGE</td>\n",
       "    </tr>\n",
       "    <tr>\n",
       "      <th>1</th>\n",
       "      <td>H01-1001.9</td>\n",
       "      <td>[[-0.3836, -0.14726, 0.18546, -0.39794, 0.3098...</td>\n",
       "      <td>H01-1001.10</td>\n",
       "      <td>[[-0.19396, -0.2022, 0.12097, 0.36407, 0.16746...</td>\n",
       "      <td>USAGE</td>\n",
       "    </tr>\n",
       "    <tr>\n",
       "      <th>2</th>\n",
       "      <td>H01-1001.14</td>\n",
       "      <td>[[-0.29712, 0.094049, -0.096662, -0.344, -0.18...</td>\n",
       "      <td>H01-1001.15</td>\n",
       "      <td>[[-1.0001, 0.45166, 0.38212, -0.098643, 0.1492...</td>\n",
       "      <td>PART_WHOLE</td>\n",
       "    </tr>\n",
       "    <tr>\n",
       "      <th>3</th>\n",
       "      <td>H01-1017.4</td>\n",
       "      <td>[[-0.076947, -0.021211, 0.21271, -0.72232, -0....</td>\n",
       "      <td>H01-1017.5</td>\n",
       "      <td>[[-0.015955, -0.63705, -0.29999, -0.40689, -0....</td>\n",
       "      <td>MODEL-FEATURE</td>\n",
       "    </tr>\n",
       "    <tr>\n",
       "      <th>4</th>\n",
       "      <td>H01-1041.3</td>\n",
       "      <td>[[-0.20145, 0.40871, -0.096877, -0.55708, -0.1...</td>\n",
       "      <td>H01-1041.4</td>\n",
       "      <td>[[-0.076947, -0.021211, 0.21271, -0.72232, -0....</td>\n",
       "      <td>PART_WHOLE</td>\n",
       "    </tr>\n",
       "  </tbody>\n",
       "</table>\n",
       "</div>"
      ],
      "text/plain": [
       "   entity_id_1                                   entity_context_1  \\\n",
       "0   H01-1001.5  [[-1.0001, 0.45166, 0.38212, -0.098643, 0.1492...   \n",
       "1   H01-1001.9  [[-0.3836, -0.14726, 0.18546, -0.39794, 0.3098...   \n",
       "2  H01-1001.14  [[-0.29712, 0.094049, -0.096662, -0.344, -0.18...   \n",
       "3   H01-1017.4  [[-0.076947, -0.021211, 0.21271, -0.72232, -0....   \n",
       "4   H01-1041.3  [[-0.20145, 0.40871, -0.096877, -0.55708, -0.1...   \n",
       "\n",
       "   entity_id_2                                   entity_context_2  \\\n",
       "0   H01-1001.7  [[0.019734, -0.072078, 0.66418, 0.050783, 0.01...   \n",
       "1  H01-1001.10  [[-0.19396, -0.2022, 0.12097, 0.36407, 0.16746...   \n",
       "2  H01-1001.15  [[-1.0001, 0.45166, 0.38212, -0.098643, 0.1492...   \n",
       "3   H01-1017.5  [[-0.015955, -0.63705, -0.29999, -0.40689, -0....   \n",
       "4   H01-1041.4  [[-0.076947, -0.021211, 0.21271, -0.72232, -0....   \n",
       "\n",
       "           label  \n",
       "0          USAGE  \n",
       "1          USAGE  \n",
       "2     PART_WHOLE  \n",
       "3  MODEL-FEATURE  \n",
       "4     PART_WHOLE  "
      ]
     },
     "execution_count": 34,
     "metadata": {},
     "output_type": "execute_result"
    }
   ],
   "source": [
    "data.head()"
   ]
  },
  {
   "cell_type": "code",
   "execution_count": 10,
   "metadata": {},
   "outputs": [],
   "source": [
    "data_to_encode = data.drop(columns =['entity_id_1'])\n",
    "data_to_encode = data_to_encode.drop(columns =['entity_id_2'])"
   ]
  },
  {
   "cell_type": "code",
   "execution_count": 39,
   "metadata": {},
   "outputs": [
    {
     "data": {
      "text/html": [
       "<div>\n",
       "<style scoped>\n",
       "    .dataframe tbody tr th:only-of-type {\n",
       "        vertical-align: middle;\n",
       "    }\n",
       "\n",
       "    .dataframe tbody tr th {\n",
       "        vertical-align: top;\n",
       "    }\n",
       "\n",
       "    .dataframe thead th {\n",
       "        text-align: right;\n",
       "    }\n",
       "</style>\n",
       "<table border=\"1\" class=\"dataframe\">\n",
       "  <thead>\n",
       "    <tr style=\"text-align: right;\">\n",
       "      <th></th>\n",
       "      <th>entity_context_1</th>\n",
       "      <th>entity_context_2</th>\n",
       "      <th>label</th>\n",
       "    </tr>\n",
       "  </thead>\n",
       "  <tbody>\n",
       "    <tr>\n",
       "      <th>0</th>\n",
       "      <td>[[-1.0001, 0.45166, 0.38212, -0.098643, 0.1492...</td>\n",
       "      <td>[[0.019734, -0.072078, 0.66418, 0.050783, 0.01...</td>\n",
       "      <td>USAGE</td>\n",
       "    </tr>\n",
       "    <tr>\n",
       "      <th>1</th>\n",
       "      <td>[[-0.3836, -0.14726, 0.18546, -0.39794, 0.3098...</td>\n",
       "      <td>[[-0.19396, -0.2022, 0.12097, 0.36407, 0.16746...</td>\n",
       "      <td>USAGE</td>\n",
       "    </tr>\n",
       "    <tr>\n",
       "      <th>2</th>\n",
       "      <td>[[-0.29712, 0.094049, -0.096662, -0.344, -0.18...</td>\n",
       "      <td>[[-1.0001, 0.45166, 0.38212, -0.098643, 0.1492...</td>\n",
       "      <td>PART_WHOLE</td>\n",
       "    </tr>\n",
       "    <tr>\n",
       "      <th>3</th>\n",
       "      <td>[[-0.076947, -0.021211, 0.21271, -0.72232, -0....</td>\n",
       "      <td>[[-0.015955, -0.63705, -0.29999, -0.40689, -0....</td>\n",
       "      <td>MODEL-FEATURE</td>\n",
       "    </tr>\n",
       "    <tr>\n",
       "      <th>4</th>\n",
       "      <td>[[-0.20145, 0.40871, -0.096877, -0.55708, -0.1...</td>\n",
       "      <td>[[-0.076947, -0.021211, 0.21271, -0.72232, -0....</td>\n",
       "      <td>PART_WHOLE</td>\n",
       "    </tr>\n",
       "  </tbody>\n",
       "</table>\n",
       "</div>"
      ],
      "text/plain": [
       "                                    entity_context_1  \\\n",
       "0  [[-1.0001, 0.45166, 0.38212, -0.098643, 0.1492...   \n",
       "1  [[-0.3836, -0.14726, 0.18546, -0.39794, 0.3098...   \n",
       "2  [[-0.29712, 0.094049, -0.096662, -0.344, -0.18...   \n",
       "3  [[-0.076947, -0.021211, 0.21271, -0.72232, -0....   \n",
       "4  [[-0.20145, 0.40871, -0.096877, -0.55708, -0.1...   \n",
       "\n",
       "                                    entity_context_2          label  \n",
       "0  [[0.019734, -0.072078, 0.66418, 0.050783, 0.01...          USAGE  \n",
       "1  [[-0.19396, -0.2022, 0.12097, 0.36407, 0.16746...          USAGE  \n",
       "2  [[-1.0001, 0.45166, 0.38212, -0.098643, 0.1492...     PART_WHOLE  \n",
       "3  [[-0.015955, -0.63705, -0.29999, -0.40689, -0....  MODEL-FEATURE  \n",
       "4  [[-0.076947, -0.021211, 0.21271, -0.72232, -0....     PART_WHOLE  "
      ]
     },
     "execution_count": 39,
     "metadata": {},
     "output_type": "execute_result"
    }
   ],
   "source": [
    "data_to_encode.head()"
   ]
  },
  {
   "cell_type": "code",
   "execution_count": 11,
   "metadata": {},
   "outputs": [],
   "source": [
    "relations_txt_1 = []\n",
    "for i in range(len(relations)):\n",
    "    for j in range(len(context_txt)):\n",
    "        if relations['Id_1'][i] == context_txt['entityID'][j]:\n",
    "            relations_txt_1.append(context_txt['context'][j])"
   ]
  },
  {
   "cell_type": "code",
   "execution_count": 20,
   "metadata": {},
   "outputs": [
    {
     "name": "stdout",
     "output_type": "stream",
     "text": [
      "database traditional information retrieval techniques use a\n"
     ]
    },
    {
     "data": {
      "text/plain": [
       "1228"
      ]
     },
     "execution_count": 20,
     "metadata": {},
     "output_type": "execute_result"
    }
   ],
   "source": [
    "print(relations_txt_1[0])\n",
    "len(relations_txt_1)"
   ]
  },
  {
   "cell_type": "code",
   "execution_count": 12,
   "metadata": {},
   "outputs": [],
   "source": [
    "relations_txt_2 = []\n",
    "for k in range(len(relations)):\n",
    "    for l in range(len(context_txt)):\n",
    "        if relations['Id_2'][k] == context_txt['entityID'][l]:\n",
    "            relations_txt_2.append(context_txt['context'][l])"
   ]
  },
  {
   "cell_type": "code",
   "execution_count": 13,
   "metadata": {},
   "outputs": [
    {
     "name": "stdout",
     "output_type": "stream",
     "text": [
      "histogram of keywords as the\n"
     ]
    },
    {
     "data": {
      "text/plain": [
       "1228"
      ]
     },
     "execution_count": 13,
     "metadata": {},
     "output_type": "execute_result"
    }
   ],
   "source": [
    "print(relations_txt_2[0])\n",
    "len(relations_txt_2)"
   ]
  },
  {
   "cell_type": "code",
   "execution_count": 14,
   "metadata": {},
   "outputs": [],
   "source": [
    "text_data = pd.DataFrame({'entity_id_1': relations['Id_1'], 'entity_text_1': relations_txt_1,\n",
    "                     'entity_id_2': relations['Id_2'], 'entity_text_2': relations_txt_2,\n",
    "                     'label': relations['Type']}) "
   ]
  },
  {
   "cell_type": "code",
   "execution_count": 31,
   "metadata": {},
   "outputs": [
    {
     "data": {
      "text/html": [
       "<div>\n",
       "<style scoped>\n",
       "    .dataframe tbody tr th:only-of-type {\n",
       "        vertical-align: middle;\n",
       "    }\n",
       "\n",
       "    .dataframe tbody tr th {\n",
       "        vertical-align: top;\n",
       "    }\n",
       "\n",
       "    .dataframe thead th {\n",
       "        text-align: right;\n",
       "    }\n",
       "</style>\n",
       "<table border=\"1\" class=\"dataframe\">\n",
       "  <thead>\n",
       "    <tr style=\"text-align: right;\">\n",
       "      <th></th>\n",
       "      <th>entity_id_1</th>\n",
       "      <th>entity_text_1</th>\n",
       "      <th>entity_id_2</th>\n",
       "      <th>entity_text_2</th>\n",
       "      <th>label</th>\n",
       "    </tr>\n",
       "  </thead>\n",
       "  <tbody>\n",
       "    <tr>\n",
       "      <th>0</th>\n",
       "      <td>H01-1001.5</td>\n",
       "      <td>database traditional information retrieval tec...</td>\n",
       "      <td>H01-1001.7</td>\n",
       "      <td>histogram of keywords as the</td>\n",
       "      <td>USAGE</td>\n",
       "    </tr>\n",
       "    <tr>\n",
       "      <th>1</th>\n",
       "      <td>H01-1001.9</td>\n",
       "      <td>representation but oral communication may offer</td>\n",
       "      <td>H01-1001.10</td>\n",
       "      <td>offer additional indices such as</td>\n",
       "      <td>USAGE</td>\n",
       "    </tr>\n",
       "    <tr>\n",
       "      <th>2</th>\n",
       "      <td>H01-1001.14</td>\n",
       "      <td>a large database of tv</td>\n",
       "      <td>H01-1001.15</td>\n",
       "      <td>database of tv shows emotions and</td>\n",
       "      <td>PART_WHOLE</td>\n",
       "    </tr>\n",
       "    <tr>\n",
       "      <th>3</th>\n",
       "      <td>H01-1017.4</td>\n",
       "      <td>of a distributed message-passing infrastructur...</td>\n",
       "      <td>H01-1017.5</td>\n",
       "      <td>infrastructure for dialogue systems which all</td>\n",
       "      <td>MODEL-FEATURE</td>\n",
       "    </tr>\n",
       "    <tr>\n",
       "      <th>4</th>\n",
       "      <td>H01-1041.3</td>\n",
       "      <td>laboratory) the cclinc korean-to-english trans...</td>\n",
       "      <td>H01-1041.4</td>\n",
       "      <td>of two core modules language understanding</td>\n",
       "      <td>PART_WHOLE</td>\n",
       "    </tr>\n",
       "  </tbody>\n",
       "</table>\n",
       "</div>"
      ],
      "text/plain": [
       "   entity_id_1                                      entity_text_1  \\\n",
       "0   H01-1001.5  database traditional information retrieval tec...   \n",
       "1   H01-1001.9    representation but oral communication may offer   \n",
       "2  H01-1001.14                             a large database of tv   \n",
       "3   H01-1017.4  of a distributed message-passing infrastructur...   \n",
       "4   H01-1041.3  laboratory) the cclinc korean-to-english trans...   \n",
       "\n",
       "   entity_id_2                                  entity_text_2          label  \n",
       "0   H01-1001.7                   histogram of keywords as the          USAGE  \n",
       "1  H01-1001.10               offer additional indices such as          USAGE  \n",
       "2  H01-1001.15              database of tv shows emotions and     PART_WHOLE  \n",
       "3   H01-1017.5  infrastructure for dialogue systems which all  MODEL-FEATURE  \n",
       "4   H01-1041.4     of two core modules language understanding     PART_WHOLE  "
      ]
     },
     "execution_count": 31,
     "metadata": {},
     "output_type": "execute_result"
    }
   ],
   "source": [
    "text_data.head()"
   ]
  },
  {
   "cell_type": "code",
   "execution_count": 15,
   "metadata": {},
   "outputs": [],
   "source": [
    "text_data_to_encode = text_data.drop(columns =['entity_id_1'])\n",
    "text_data_to_encode = text_data_to_encode.drop(columns =['entity_id_2'])"
   ]
  },
  {
   "cell_type": "code",
   "execution_count": 16,
   "metadata": {},
   "outputs": [],
   "source": [
    "#store this data for later use in the bert model\n",
    "text_data_to_encode.to_pickle(\"entity_pair.pkl\")"
   ]
  },
  {
   "cell_type": "code",
   "execution_count": 25,
   "metadata": {},
   "outputs": [
    {
     "data": {
      "text/html": [
       "<div>\n",
       "<style scoped>\n",
       "    .dataframe tbody tr th:only-of-type {\n",
       "        vertical-align: middle;\n",
       "    }\n",
       "\n",
       "    .dataframe tbody tr th {\n",
       "        vertical-align: top;\n",
       "    }\n",
       "\n",
       "    .dataframe thead th {\n",
       "        text-align: right;\n",
       "    }\n",
       "</style>\n",
       "<table border=\"1\" class=\"dataframe\">\n",
       "  <thead>\n",
       "    <tr style=\"text-align: right;\">\n",
       "      <th></th>\n",
       "      <th>entity_text_1</th>\n",
       "      <th>entity_text_2</th>\n",
       "      <th>label</th>\n",
       "    </tr>\n",
       "  </thead>\n",
       "  <tbody>\n",
       "    <tr>\n",
       "      <th>0</th>\n",
       "      <td>database traditional information retrieval tec...</td>\n",
       "      <td>histogram of keywords as the</td>\n",
       "      <td>USAGE</td>\n",
       "    </tr>\n",
       "    <tr>\n",
       "      <th>1</th>\n",
       "      <td>representation but oral communication may offer</td>\n",
       "      <td>offer additional indices such as</td>\n",
       "      <td>USAGE</td>\n",
       "    </tr>\n",
       "    <tr>\n",
       "      <th>2</th>\n",
       "      <td>a large database of tv</td>\n",
       "      <td>database of tv shows emotions and</td>\n",
       "      <td>PART_WHOLE</td>\n",
       "    </tr>\n",
       "    <tr>\n",
       "      <th>3</th>\n",
       "      <td>of a distributed message-passing infrastructur...</td>\n",
       "      <td>infrastructure for dialogue systems which all</td>\n",
       "      <td>MODEL-FEATURE</td>\n",
       "    </tr>\n",
       "    <tr>\n",
       "      <th>4</th>\n",
       "      <td>laboratory) the cclinc korean-to-english trans...</td>\n",
       "      <td>of two core modules language understanding</td>\n",
       "      <td>PART_WHOLE</td>\n",
       "    </tr>\n",
       "  </tbody>\n",
       "</table>\n",
       "</div>"
      ],
      "text/plain": [
       "                                       entity_text_1  \\\n",
       "0  database traditional information retrieval tec...   \n",
       "1    representation but oral communication may offer   \n",
       "2                             a large database of tv   \n",
       "3  of a distributed message-passing infrastructur...   \n",
       "4  laboratory) the cclinc korean-to-english trans...   \n",
       "\n",
       "                                   entity_text_2          label  \n",
       "0                   histogram of keywords as the          USAGE  \n",
       "1               offer additional indices such as          USAGE  \n",
       "2              database of tv shows emotions and     PART_WHOLE  \n",
       "3  infrastructure for dialogue systems which all  MODEL-FEATURE  \n",
       "4     of two core modules language understanding     PART_WHOLE  "
      ]
     },
     "execution_count": 25,
     "metadata": {},
     "output_type": "execute_result"
    }
   ],
   "source": [
    "text_data_to_encode.head()"
   ]
  },
  {
   "cell_type": "code",
   "execution_count": 36,
   "metadata": {},
   "outputs": [
    {
     "name": "stdout",
     "output_type": "stream",
     "text": [
      "0       database traditional information retrieval tec...\n",
      "1         representation but oral communication may offer\n",
      "2                                  a large database of tv\n",
      "3       of a distributed message-passing infrastructur...\n",
      "4       laboratory) the cclinc korean-to-english trans...\n",
      "                              ...                        \n",
      "1223                       whether its sentences are used\n",
      "1224                             bound of accuracy of 77%\n",
      "1225          proposed, allowing non-terminals to consist\n",
      "1226                strongly adequate grammar for crossed\n",
      "1227                  an existing parsing method for gpsg\n",
      "Name: entity_text_1, Length: 1228, dtype: object\n"
     ]
    }
   ],
   "source": [
    "type(text_data_to_encode['entity_text_1'][1])"
   ]
  },
  {
   "cell_type": "markdown",
   "metadata": {},
   "source": [
    "Merge the two entity columns into one. "
   ]
  },
  {
   "cell_type": "code",
   "execution_count": 41,
   "metadata": {},
   "outputs": [
    {
     "data": {
      "text/html": [
       "<div>\n",
       "<style scoped>\n",
       "    .dataframe tbody tr th:only-of-type {\n",
       "        vertical-align: middle;\n",
       "    }\n",
       "\n",
       "    .dataframe tbody tr th {\n",
       "        vertical-align: top;\n",
       "    }\n",
       "\n",
       "    .dataframe thead th {\n",
       "        text-align: right;\n",
       "    }\n",
       "</style>\n",
       "<table border=\"1\" class=\"dataframe\">\n",
       "  <thead>\n",
       "    <tr style=\"text-align: right;\">\n",
       "      <th></th>\n",
       "      <th>entity_pair</th>\n",
       "      <th>label</th>\n",
       "    </tr>\n",
       "  </thead>\n",
       "  <tbody>\n",
       "    <tr>\n",
       "      <th>0</th>\n",
       "      <td>database traditional information retrieval tec...</td>\n",
       "      <td>USAGE</td>\n",
       "    </tr>\n",
       "    <tr>\n",
       "      <th>1</th>\n",
       "      <td>representation but oral communication may offe...</td>\n",
       "      <td>USAGE</td>\n",
       "    </tr>\n",
       "    <tr>\n",
       "      <th>2</th>\n",
       "      <td>a large database of tv database of tv shows em...</td>\n",
       "      <td>PART_WHOLE</td>\n",
       "    </tr>\n",
       "    <tr>\n",
       "      <th>3</th>\n",
       "      <td>of a distributed message-passing infrastructur...</td>\n",
       "      <td>MODEL-FEATURE</td>\n",
       "    </tr>\n",
       "    <tr>\n",
       "      <th>4</th>\n",
       "      <td>laboratory) the cclinc korean-to-english trans...</td>\n",
       "      <td>PART_WHOLE</td>\n",
       "    </tr>\n",
       "  </tbody>\n",
       "</table>\n",
       "</div>"
      ],
      "text/plain": [
       "                                         entity_pair          label\n",
       "0  database traditional information retrieval tec...          USAGE\n",
       "1  representation but oral communication may offe...          USAGE\n",
       "2  a large database of tv database of tv shows em...     PART_WHOLE\n",
       "3  of a distributed message-passing infrastructur...  MODEL-FEATURE\n",
       "4  laboratory) the cclinc korean-to-english trans...     PART_WHOLE"
      ]
     },
     "execution_count": 41,
     "metadata": {},
     "output_type": "execute_result"
    }
   ],
   "source": [
    "entity_pair = text_data_to_encode['entity_text_1'] + ' ' + text_data_to_encode['entity_text_2']\n",
    "data_to_train = pd.DataFrame({'entity_pair': entity_pair, 'label':text_data_to_encode['label'] })\n",
    "data_to_train.head()"
   ]
  },
  {
   "cell_type": "code",
   "execution_count": 42,
   "metadata": {},
   "outputs": [],
   "source": [
    "data_to_train.to_pickle(\"train.pkl\")"
   ]
  }
 ],
 "metadata": {
  "kernelspec": {
   "display_name": "Python 3",
   "language": "python",
   "name": "python3"
  },
  "language_info": {
   "codemirror_mode": {
    "name": "ipython",
    "version": 3
   },
   "file_extension": ".py",
   "mimetype": "text/x-python",
   "name": "python",
   "nbconvert_exporter": "python",
   "pygments_lexer": "ipython3",
   "version": "3.7.4"
  }
 },
 "nbformat": 4,
 "nbformat_minor": 2
}
