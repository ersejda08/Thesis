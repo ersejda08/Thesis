{
 "cells": [
  {
   "cell_type": "code",
   "execution_count": 1,
   "metadata": {},
   "outputs": [
    {
     "name": "stdout",
     "output_type": "stream",
     "text": [
      "2.0.0\n"
     ]
    }
   ],
   "source": [
    "import csv\n",
    "import tensorflow as tf\n",
    "import numpy as np\n",
    "from tensorflow.keras.preprocessing.text import Tokenizer\n",
    "from tensorflow.keras.preprocessing.sequence import pad_sequences\n",
    "from nltk.corpus import stopwords\n",
    "STOPWORDS = set(stopwords.words('english'))\n",
    "\n",
    "print(tf.__version__)"
   ]
  },
  {
   "cell_type": "markdown",
   "metadata": {},
   "source": [
    "1. This model is inspired by the article on Medium: \n",
    "https://towardsdatascience.com/multi-class-text-classification-with-lstm-using-tensorflow-2-0-d88627c10a35\n",
    "2. The task is treated as a document classification task where the input is the entity pair and sorrounding context, the label to be predicted is the relation type\n",
    "3. Example: \n",
    "- entity1: information retrieval techniques,\n",
    "- entity2: keywords, \n",
    "- label=USAGE \n",
    "- entity1 with context: traditional information retrieval techniques use a\n",
    "- entity2 with context: histogram of keywords as the \n",
    "- input: traditional information retrieval techniques use a histogram of keywords as the \n",
    "- label: USAGE"
   ]
  },
  {
   "cell_type": "code",
   "execution_count": 2,
   "metadata": {},
   "outputs": [
    {
     "name": "stdout",
     "output_type": "stream",
     "text": [
      "                                            entity_pair          label\n",
      "0     database traditional information retrieval tec...          USAGE\n",
      "1     representation but oral communication may offe...          USAGE\n",
      "2     a large database of tv database of tv shows em...     PART_WHOLE\n",
      "3     of a distributed message-passing infrastructur...  MODEL-FEATURE\n",
      "4     laboratory) the cclinc korean-to-english trans...     PART_WHOLE\n",
      "...                                                 ...            ...\n",
      "1223  whether its sentences are used the same contex...  MODEL-FEATURE\n",
      "1224  bound of accuracy of 77% using only topic info...         RESULT\n",
      "1225  proposed, allowing non-terminals to consist se...     PART_WHOLE\n",
      "1226  strongly adequate grammar for crossed grammar ...          USAGE\n",
      "1227  an existing parsing method for gpsg method for...          USAGE\n",
      "\n",
      "[1228 rows x 2 columns]\n"
     ]
    }
   ],
   "source": [
    "import pickle\n",
    "import pandas as pd\n",
    "import numpy as np\n",
    "#import the pickeled file prepared for training the model. \n",
    "#it consists of the pair of entities with the sorrounding context of both entities and the label for each pair. \n",
    "train = pd.read_pickle(\"train.pkl\")\n",
    "print(train)"
   ]
  },
  {
   "cell_type": "code",
   "execution_count": 3,
   "metadata": {},
   "outputs": [
    {
     "name": "stdout",
     "output_type": "stream",
     "text": [
      "dict_keys(['USAGE', 'PART_WHOLE', 'MODEL-FEATURE', 'RESULT', 'COMPARE', 'TOPIC'])\n"
     ]
    }
   ],
   "source": [
    "#display the entity types. \n",
    "from collections import Counter\n",
    "distinct_list= (Counter(train['label']).keys())\n",
    "print(distinct_list)"
   ]
  },
  {
   "cell_type": "markdown",
   "metadata": {},
   "source": [
    "We will map the entity types to numerical value because some of entity types like PART_WHOLE and MODEL-FEATURE consists of two tokens. This couses a problem because the model expects a 1-Dimensional vector for the label but if we have two tokens for some labels the representation for these will be a matrix with 2 dimensions. "
   ]
  },
  {
   "cell_type": "code",
   "execution_count": 4,
   "metadata": {},
   "outputs": [],
   "source": [
    "Label = {'USAGE': 0, 'PART_WHOLE': 1, 'MODEL-FEATURE': 2, 'RESULT': 3, 'COMPARE': 4, 'TOPIC': 5}"
   ]
  },
  {
   "cell_type": "code",
   "execution_count": 5,
   "metadata": {},
   "outputs": [
    {
     "name": "stdout",
     "output_type": "stream",
     "text": [
      "           label  label_nr\n",
      "0          USAGE         0\n",
      "1     PART_WHOLE         1\n",
      "2  MODEL-FEATURE         2\n",
      "3         RESULT         3\n",
      "4        COMPARE         4\n",
      "5          TOPIC         5\n"
     ]
    }
   ],
   "source": [
    "labels_df = pd.DataFrame(Label.items(), columns=['label', 'label_nr'])\n",
    "print(labels_df)"
   ]
  },
  {
   "cell_type": "code",
   "execution_count": 6,
   "metadata": {},
   "outputs": [],
   "source": [
    "map_labels = pd.merge(train, labels_df, on='label')"
   ]
  },
  {
   "cell_type": "markdown",
   "metadata": {},
   "source": [
    "We add another column with labels in numerical form to the dataframe, and use only values of 'lable_nr' column for training. "
   ]
  },
  {
   "cell_type": "code",
   "execution_count": 7,
   "metadata": {},
   "outputs": [
    {
     "name": "stdout",
     "output_type": "stream",
     "text": [
      "                                            entity_pair  label  label_nr\n",
      "1220  presents a critical discussion of the in the e...  TOPIC         5\n",
      "1221  semantic theories of natural theories of natur...  TOPIC         5\n",
      "1222  of the proportion problem and given from a gen...  TOPIC         5\n",
      "1223  evolved in speech and text image processing wo...  TOPIC         5\n",
      "1224  of the cross-lingual comparisons provided by b...  TOPIC         5\n",
      "1225  take existing computational semantic analyses ...  TOPIC         5\n",
      "1226  no particular user interface styles or convent...  TOPIC         5\n",
      "1227  of the definitions are produced relatively rob...  TOPIC         5\n"
     ]
    }
   ],
   "source": [
    "print(map_labels[1220:])"
   ]
  },
  {
   "cell_type": "markdown",
   "metadata": {},
   "source": [
    "1. Vocabulary size is the size of the vocabulary that we created in previous steps.\n",
    "2. Choose and embedding dimension of 64.\n",
    "3. According to some statistical analysis we made with the dataset, the maximum lenght of sequences is:  27 and the minimum 7. while the average sequence lngth is 12.46 and the median is 12. So we decided to have a maximum length of the sequence equal to 12. \n",
    "4. Do padding for sequences smaller than 12 and trucating for sequences larger than 12. \n",
    "5. oov_token stands for tokens which are not found in the vocabulary. \n",
    "6. Decide 80% of the data for training and 20% validation. "
   ]
  },
  {
   "cell_type": "code",
   "execution_count": 8,
   "metadata": {},
   "outputs": [],
   "source": [
    "vocab_size = 4297\n",
    "embedding_dim = 64\n",
    "max_length = 12\n",
    "trunc_type = 'post'\n",
    "padding_type = 'post'\n",
    "oov_tok = '<OOV>'\n",
    "training_portion = .8"
   ]
  },
  {
   "cell_type": "code",
   "execution_count": 9,
   "metadata": {},
   "outputs": [],
   "source": [
    "#create two lists for holding entity pair and labels.\n",
    "entities = []\n",
    "labels = []"
   ]
  },
  {
   "cell_type": "code",
   "execution_count": 10,
   "metadata": {},
   "outputs": [],
   "source": [
    "for row in map_labels['entity_pair']:\n",
    "    entities.append(row)\n",
    "    \n",
    "for label in map_labels['label_nr']:\n",
    "    labels.append(label)"
   ]
  },
  {
   "cell_type": "code",
   "execution_count": 11,
   "metadata": {},
   "outputs": [],
   "source": [
    "#we get 982 samples for training and 246 sample for validation\n",
    "train_size = int(len(entities) * training_portion)\n",
    "\n",
    "train_entities = entities[0: train_size]\n",
    "train_labels = labels[0: train_size]\n",
    "\n",
    "validation_entities = entities[train_size:]\n",
    "validation_labels = labels[train_size:]"
   ]
  },
  {
   "cell_type": "code",
   "execution_count": 12,
   "metadata": {},
   "outputs": [
    {
     "data": {
      "text/plain": [
       "{'<OOV>': 1,\n",
       " 'the': 2,\n",
       " 'of': 3,\n",
       " 'a': 4,\n",
       " 'in': 5,\n",
       " 'for': 6,\n",
       " 'and': 7,\n",
       " 'to': 8,\n",
       " 'on': 9,\n",
       " 'based': 10,\n",
       " 'from': 11,\n",
       " 'is': 12,\n",
       " 'with': 13,\n",
       " 'that': 14,\n",
       " 'an': 15}"
      ]
     },
     "execution_count": 12,
     "metadata": {},
     "output_type": "execute_result"
    }
   ],
   "source": [
    "#Here we show the index of the tokens present in the training data after tokenization.\n",
    "tokenizer = Tokenizer(num_words = vocab_size, oov_token=oov_tok)\n",
    "tokenizer.fit_on_texts(train_entities)\n",
    "word_index = tokenizer.word_index\n",
    "dict(list(word_index.items())[0:15])"
   ]
  },
  {
   "cell_type": "markdown",
   "metadata": {},
   "source": [
    "In this part we make some statistical calculations that will help us decide for the maximum sequence length. "
   ]
  },
  {
   "cell_type": "code",
   "execution_count": 13,
   "metadata": {},
   "outputs": [],
   "source": [
    "len_seq = []\n",
    "train_sequences = tokenizer.texts_to_sequences(train_entities)\n",
    "for i in range (len(train_sequences)):\n",
    "    len_seq.append(len(train_sequences[i]))\n",
    "\n",
    "def Average(lst): \n",
    "    return sum(lst) / len(lst) "
   ]
  },
  {
   "cell_type": "code",
   "execution_count": 14,
   "metadata": {},
   "outputs": [
    {
     "name": "stdout",
     "output_type": "stream",
     "text": [
      "The maximum sequence length is:  27\n",
      "The minimum sequence length is:  7\n",
      "The average length of the squence is:  12.466395112016293\n",
      "The median length of the squence is:  12.0\n"
     ]
    }
   ],
   "source": [
    "import statistics \n",
    "print('The maximum sequence length is: ', max(len_seq))\n",
    "print('The minimum sequence length is: ', min(len_seq))\n",
    "print('The average length of the squence is: ', Average(len_seq)) \n",
    "print('The median length of the squence is: ', statistics.median(len_seq)) "
   ]
  },
  {
   "cell_type": "code",
   "execution_count": 15,
   "metadata": {},
   "outputs": [
    {
     "name": "stdout",
     "output_type": "stream",
     "text": [
      "12\n",
      "12\n",
      "11\n",
      "12\n",
      "(982, 12)\n"
     ]
    },
    {
     "data": {
      "text/plain": [
       "numpy.ndarray"
      ]
     },
     "execution_count": 15,
     "metadata": {},
     "output_type": "execute_result"
    }
   ],
   "source": [
    "#Some examples after padding the sequences\n",
    "train_padded = pad_sequences(train_sequences, maxlen=max_length, padding=padding_type, truncating=trunc_type)\n",
    "print(len(train_sequences[0]))\n",
    "print(len(train_padded[0]))\n",
    "\n",
    "print(len(train_sequences[1]))\n",
    "print(len(train_padded[1]))\n",
    "\n",
    "print(train_padded.shape)\n",
    "type(train_padded)"
   ]
  },
  {
   "cell_type": "code",
   "execution_count": 16,
   "metadata": {},
   "outputs": [
    {
     "name": "stdout",
     "output_type": "stream",
     "text": [
      "[  90  297 1207  357  358  775  775  298 1208   69   20    0]\n"
     ]
    }
   ],
   "source": [
    "#an example of the training data expresed with word indices. \n",
    "print(train_padded[1])"
   ]
  },
  {
   "cell_type": "code",
   "execution_count": 17,
   "metadata": {},
   "outputs": [
    {
     "name": "stdout",
     "output_type": "stream",
     "text": [
      "246\n",
      "(246, 12)\n"
     ]
    }
   ],
   "source": [
    "#246 samples for validation with sequence length 12\n",
    "validation_sequences = tokenizer.texts_to_sequences(validation_entities)\n",
    "validation_padded = pad_sequences(validation_sequences, maxlen=max_length, padding=padding_type, truncating=trunc_type)\n",
    "\n",
    "print(len(validation_sequences))\n",
    "print(validation_padded.shape)"
   ]
  },
  {
   "cell_type": "code",
   "execution_count": 20,
   "metadata": {},
   "outputs": [
    {
     "name": "stdout",
     "output_type": "stream",
     "text": [
      "[0 0 0 0 0 0 0 0 0 0 0 0 0 0 0 0 0 0 0 0]\n",
      "[4 4 4 4 4 4 4 4 4 4 4 4 4 4 4 4 4 4 4 4 4 4 4 4 4 4 4 4 5 5 5 5 5 5 5 5 5\n",
      " 5 5 5 5 5 5 5 5 5]\n"
     ]
    },
    {
     "data": {
      "text/plain": [
       "numpy.ndarray"
      ]
     },
     "execution_count": 20,
     "metadata": {},
     "output_type": "execute_result"
    }
   ],
   "source": [
    "train_labels = pd.array(train_labels)\n",
    "train_labels = train_labels.to_numpy()\n",
    "print(train_labels[:20])\n",
    "validation_labels = pd.array(validation_labels)\n",
    "validation_labels = validation_labels.to_numpy()\n",
    "print(validation_labels[200:246])\n",
    "type(train_labels)"
   ]
  },
  {
   "cell_type": "code",
   "execution_count": 38,
   "metadata": {},
   "outputs": [
    {
     "data": {
      "text/plain": [
       "(982,)"
      ]
     },
     "execution_count": 38,
     "metadata": {},
     "output_type": "execute_result"
    }
   ],
   "source": [
    "train_labels.shape"
   ]
  },
  {
   "cell_type": "code",
   "execution_count": 21,
   "metadata": {},
   "outputs": [
    {
     "name": "stdout",
     "output_type": "stream",
     "text": [
      "Model: \"sequential\"\n",
      "_________________________________________________________________\n",
      "Layer (type)                 Output Shape              Param #   \n",
      "=================================================================\n",
      "embedding (Embedding)        (None, None, 64)          275008    \n",
      "_________________________________________________________________\n",
      "bidirectional (Bidirectional (None, 128)               66048     \n",
      "_________________________________________________________________\n",
      "dense (Dense)                (None, 64)                8256      \n",
      "_________________________________________________________________\n",
      "dense_1 (Dense)              (None, 6)                 390       \n",
      "=================================================================\n",
      "Total params: 349,702\n",
      "Trainable params: 349,702\n",
      "Non-trainable params: 0\n",
      "_________________________________________________________________\n"
     ]
    }
   ],
   "source": [
    "model = tf.keras.Sequential([\n",
    "    # Add an Embedding layer, input is the vocab of size , and output embedding dimension decided at the begining. \n",
    "    tf.keras.layers.Embedding(vocab_size, embedding_dim),\n",
    "    #Choose a bidirectional LSTM layer to better capture the context.  \n",
    "    tf.keras.layers.Bidirectional(tf.keras.layers.LSTM(embedding_dim)),\n",
    "    # use ReLU as an activation function\n",
    "    tf.keras.layers.Dense(embedding_dim, activation='relu'),\n",
    "    # Add a Dense layer with 6 units and softmax activation.\n",
    "    tf.keras.layers.Dense(6, activation='softmax')\n",
    "])\n",
    "model.summary()"
   ]
  },
  {
   "cell_type": "code",
   "execution_count": 23,
   "metadata": {},
   "outputs": [
    {
     "name": "stdout",
     "output_type": "stream",
     "text": [
      "Train on 982 samples, validate on 246 samples\n",
      "Epoch 1/100\n",
      "982/982 - 9s - loss: 1.5173 - accuracy: 0.4664 - val_loss: 4.3989 - val_accuracy: 0.0000e+00\n",
      "Epoch 2/100\n",
      "982/982 - 1s - loss: 0.9468 - accuracy: 0.5611 - val_loss: 6.2079 - val_accuracy: 0.0488\n",
      "Epoch 3/100\n",
      "982/982 - 1s - loss: 0.6003 - accuracy: 0.7597 - val_loss: 9.7062 - val_accuracy: 0.1667\n",
      "Epoch 4/100\n",
      "982/982 - 1s - loss: 0.2903 - accuracy: 0.8971 - val_loss: 9.2282 - val_accuracy: 0.1220\n",
      "Epoch 5/100\n",
      "982/982 - 1s - loss: 0.1213 - accuracy: 0.9633 - val_loss: 11.1465 - val_accuracy: 0.1260\n",
      "Epoch 6/100\n",
      "982/982 - 1s - loss: 0.0453 - accuracy: 0.9878 - val_loss: 11.4549 - val_accuracy: 0.1463\n",
      "Epoch 7/100\n",
      "982/982 - 1s - loss: 0.0206 - accuracy: 0.9949 - val_loss: 11.9774 - val_accuracy: 0.1504\n",
      "Epoch 8/100\n",
      "982/982 - 1s - loss: 0.0103 - accuracy: 0.9980 - val_loss: 12.8256 - val_accuracy: 0.1260\n",
      "Epoch 9/100\n",
      "982/982 - 1s - loss: 0.0065 - accuracy: 0.9990 - val_loss: 11.7279 - val_accuracy: 0.1341\n",
      "Epoch 10/100\n",
      "982/982 - 1s - loss: 0.0040 - accuracy: 1.0000 - val_loss: 12.8242 - val_accuracy: 0.1179\n",
      "Epoch 11/100\n",
      "982/982 - 1s - loss: 0.0015 - accuracy: 1.0000 - val_loss: 12.5777 - val_accuracy: 0.1382\n",
      "Epoch 12/100\n",
      "982/982 - 1s - loss: 8.5651e-04 - accuracy: 1.0000 - val_loss: 13.0112 - val_accuracy: 0.1260\n",
      "Epoch 13/100\n",
      "982/982 - 1s - loss: 6.0906e-04 - accuracy: 1.0000 - val_loss: 13.1223 - val_accuracy: 0.1301\n",
      "Epoch 14/100\n",
      "982/982 - 1s - loss: 5.0105e-04 - accuracy: 1.0000 - val_loss: 13.2062 - val_accuracy: 0.1301\n",
      "Epoch 15/100\n",
      "982/982 - 1s - loss: 4.2826e-04 - accuracy: 1.0000 - val_loss: 13.3309 - val_accuracy: 0.1301\n",
      "Epoch 16/100\n",
      "982/982 - 1s - loss: 3.6798e-04 - accuracy: 1.0000 - val_loss: 13.4175 - val_accuracy: 0.1260\n",
      "Epoch 17/100\n",
      "982/982 - 1s - loss: 3.2215e-04 - accuracy: 1.0000 - val_loss: 13.5140 - val_accuracy: 0.1260\n",
      "Epoch 18/100\n",
      "982/982 - 1s - loss: 2.8524e-04 - accuracy: 1.0000 - val_loss: 13.5859 - val_accuracy: 0.1260\n",
      "Epoch 19/100\n",
      "982/982 - 1s - loss: 2.5322e-04 - accuracy: 1.0000 - val_loss: 13.6564 - val_accuracy: 0.1260\n",
      "Epoch 20/100\n",
      "982/982 - 1s - loss: 2.2760e-04 - accuracy: 1.0000 - val_loss: 13.7252 - val_accuracy: 0.1260\n",
      "Epoch 21/100\n",
      "982/982 - 1s - loss: 2.0550e-04 - accuracy: 1.0000 - val_loss: 13.7815 - val_accuracy: 0.1260\n",
      "Epoch 22/100\n",
      "982/982 - 1s - loss: 1.8662e-04 - accuracy: 1.0000 - val_loss: 13.8537 - val_accuracy: 0.1260\n",
      "Epoch 23/100\n",
      "982/982 - 1s - loss: 1.7023e-04 - accuracy: 1.0000 - val_loss: 13.9053 - val_accuracy: 0.1260\n",
      "Epoch 24/100\n",
      "982/982 - 1s - loss: 1.5584e-04 - accuracy: 1.0000 - val_loss: 13.9596 - val_accuracy: 0.1260\n",
      "Epoch 25/100\n",
      "982/982 - 1s - loss: 1.4372e-04 - accuracy: 1.0000 - val_loss: 14.0141 - val_accuracy: 0.1260\n",
      "Epoch 26/100\n",
      "982/982 - 1s - loss: 1.3227e-04 - accuracy: 1.0000 - val_loss: 14.0674 - val_accuracy: 0.1260\n",
      "Epoch 27/100\n",
      "982/982 - 1s - loss: 1.2283e-04 - accuracy: 1.0000 - val_loss: 14.1086 - val_accuracy: 0.1260\n",
      "Epoch 28/100\n",
      "982/982 - 1s - loss: 1.1359e-04 - accuracy: 1.0000 - val_loss: 14.1539 - val_accuracy: 0.1260\n",
      "Epoch 29/100\n",
      "982/982 - 1s - loss: 1.0594e-04 - accuracy: 1.0000 - val_loss: 14.1976 - val_accuracy: 0.1260\n",
      "Epoch 30/100\n",
      "982/982 - 1s - loss: 9.8902e-05 - accuracy: 1.0000 - val_loss: 14.2480 - val_accuracy: 0.1260\n",
      "Epoch 31/100\n",
      "982/982 - 1s - loss: 9.2572e-05 - accuracy: 1.0000 - val_loss: 14.2855 - val_accuracy: 0.1260\n",
      "Epoch 32/100\n",
      "982/982 - 1s - loss: 8.6671e-05 - accuracy: 1.0000 - val_loss: 14.3271 - val_accuracy: 0.1260\n",
      "Epoch 33/100\n",
      "982/982 - 1s - loss: 8.1369e-05 - accuracy: 1.0000 - val_loss: 14.3694 - val_accuracy: 0.1260\n",
      "Epoch 34/100\n",
      "982/982 - 1s - loss: 7.6760e-05 - accuracy: 1.0000 - val_loss: 14.4090 - val_accuracy: 0.1260\n",
      "Epoch 35/100\n",
      "982/982 - 1s - loss: 7.2046e-05 - accuracy: 1.0000 - val_loss: 14.4420 - val_accuracy: 0.1260\n",
      "Epoch 36/100\n",
      "982/982 - 1s - loss: 6.8139e-05 - accuracy: 1.0000 - val_loss: 14.4780 - val_accuracy: 0.1260\n",
      "Epoch 37/100\n",
      "982/982 - 1s - loss: 6.4308e-05 - accuracy: 1.0000 - val_loss: 14.5142 - val_accuracy: 0.1260\n",
      "Epoch 38/100\n",
      "982/982 - 1s - loss: 6.0854e-05 - accuracy: 1.0000 - val_loss: 14.5471 - val_accuracy: 0.1260\n",
      "Epoch 39/100\n",
      "982/982 - 1s - loss: 5.7639e-05 - accuracy: 1.0000 - val_loss: 14.5774 - val_accuracy: 0.1260\n",
      "Epoch 40/100\n",
      "982/982 - 1s - loss: 5.4760e-05 - accuracy: 1.0000 - val_loss: 14.6178 - val_accuracy: 0.1260\n",
      "Epoch 41/100\n",
      "982/982 - 1s - loss: 5.2004e-05 - accuracy: 1.0000 - val_loss: 14.6453 - val_accuracy: 0.1260\n",
      "Epoch 42/100\n",
      "982/982 - 1s - loss: 4.9435e-05 - accuracy: 1.0000 - val_loss: 14.6772 - val_accuracy: 0.1260\n",
      "Epoch 43/100\n",
      "982/982 - 1s - loss: 4.7112e-05 - accuracy: 1.0000 - val_loss: 14.7058 - val_accuracy: 0.1260\n",
      "Epoch 44/100\n",
      "982/982 - 1s - loss: 4.4914e-05 - accuracy: 1.0000 - val_loss: 14.7343 - val_accuracy: 0.1260\n",
      "Epoch 45/100\n",
      "982/982 - 1s - loss: 4.2905e-05 - accuracy: 1.0000 - val_loss: 14.7625 - val_accuracy: 0.1260\n",
      "Epoch 46/100\n",
      "982/982 - 1s - loss: 4.0881e-05 - accuracy: 1.0000 - val_loss: 14.7921 - val_accuracy: 0.1260\n",
      "Epoch 47/100\n",
      "982/982 - 1s - loss: 3.9061e-05 - accuracy: 1.0000 - val_loss: 14.8173 - val_accuracy: 0.1260\n",
      "Epoch 48/100\n",
      "982/982 - 1s - loss: 3.7378e-05 - accuracy: 1.0000 - val_loss: 14.8458 - val_accuracy: 0.1260\n",
      "Epoch 49/100\n",
      "982/982 - 1s - loss: 3.5768e-05 - accuracy: 1.0000 - val_loss: 14.8737 - val_accuracy: 0.1260\n",
      "Epoch 50/100\n",
      "982/982 - 1s - loss: 3.4285e-05 - accuracy: 1.0000 - val_loss: 14.9006 - val_accuracy: 0.1260\n",
      "Epoch 51/100\n",
      "982/982 - 1s - loss: 3.2894e-05 - accuracy: 1.0000 - val_loss: 14.9252 - val_accuracy: 0.1260\n",
      "Epoch 52/100\n",
      "982/982 - 1s - loss: 3.1544e-05 - accuracy: 1.0000 - val_loss: 14.9501 - val_accuracy: 0.1260\n",
      "Epoch 53/100\n",
      "982/982 - 1s - loss: 3.0295e-05 - accuracy: 1.0000 - val_loss: 14.9774 - val_accuracy: 0.1260\n",
      "Epoch 54/100\n",
      "982/982 - 1s - loss: 2.9126e-05 - accuracy: 1.0000 - val_loss: 14.9975 - val_accuracy: 0.1260\n",
      "Epoch 55/100\n",
      "982/982 - 1s - loss: 2.7974e-05 - accuracy: 1.0000 - val_loss: 15.0184 - val_accuracy: 0.1260\n",
      "Epoch 56/100\n",
      "982/982 - 1s - loss: 2.6929e-05 - accuracy: 1.0000 - val_loss: 15.0425 - val_accuracy: 0.1260\n",
      "Epoch 57/100\n",
      "982/982 - 1s - loss: 2.5905e-05 - accuracy: 1.0000 - val_loss: 15.0648 - val_accuracy: 0.1260\n",
      "Epoch 58/100\n",
      "982/982 - 1s - loss: 2.4938e-05 - accuracy: 1.0000 - val_loss: 15.0899 - val_accuracy: 0.1260\n",
      "Epoch 59/100\n",
      "982/982 - 1s - loss: 2.4050e-05 - accuracy: 1.0000 - val_loss: 15.1148 - val_accuracy: 0.1260\n",
      "Epoch 60/100\n",
      "982/982 - 1s - loss: 2.3157e-05 - accuracy: 1.0000 - val_loss: 15.1358 - val_accuracy: 0.1260\n",
      "Epoch 61/100\n",
      "982/982 - 1s - loss: 2.2339e-05 - accuracy: 1.0000 - val_loss: 15.1585 - val_accuracy: 0.1260\n",
      "Epoch 62/100\n",
      "982/982 - 1s - loss: 2.1571e-05 - accuracy: 1.0000 - val_loss: 15.1781 - val_accuracy: 0.1260\n",
      "Epoch 63/100\n",
      "982/982 - 1s - loss: 2.0818e-05 - accuracy: 1.0000 - val_loss: 15.2004 - val_accuracy: 0.1260\n",
      "Epoch 64/100\n",
      "982/982 - 1s - loss: 2.0116e-05 - accuracy: 1.0000 - val_loss: 15.2204 - val_accuracy: 0.1260\n",
      "Epoch 65/100\n",
      "982/982 - 1s - loss: 1.9433e-05 - accuracy: 1.0000 - val_loss: 15.2418 - val_accuracy: 0.1260\n",
      "Epoch 66/100\n",
      "982/982 - 1s - loss: 1.8785e-05 - accuracy: 1.0000 - val_loss: 15.2590 - val_accuracy: 0.1260\n",
      "Epoch 67/100\n",
      "982/982 - 1s - loss: 1.8155e-05 - accuracy: 1.0000 - val_loss: 15.2792 - val_accuracy: 0.1260\n",
      "Epoch 68/100\n",
      "982/982 - 1s - loss: 1.7574e-05 - accuracy: 1.0000 - val_loss: 15.3004 - val_accuracy: 0.1260\n",
      "Epoch 69/100\n",
      "982/982 - 1s - loss: 1.6993e-05 - accuracy: 1.0000 - val_loss: 15.3189 - val_accuracy: 0.1260\n",
      "Epoch 70/100\n",
      "982/982 - 1s - loss: 1.6443e-05 - accuracy: 1.0000 - val_loss: 15.3405 - val_accuracy: 0.1260\n",
      "Epoch 71/100\n",
      "982/982 - 1s - loss: 1.5944e-05 - accuracy: 1.0000 - val_loss: 15.3585 - val_accuracy: 0.1260\n",
      "Epoch 72/100\n",
      "982/982 - 1s - loss: 1.5431e-05 - accuracy: 1.0000 - val_loss: 15.3772 - val_accuracy: 0.1260\n",
      "Epoch 73/100\n",
      "982/982 - 1s - loss: 1.4940e-05 - accuracy: 1.0000 - val_loss: 15.3954 - val_accuracy: 0.1260\n",
      "Epoch 74/100\n",
      "982/982 - 1s - loss: 1.4484e-05 - accuracy: 1.0000 - val_loss: 15.4137 - val_accuracy: 0.1260\n",
      "Epoch 75/100\n",
      "982/982 - 1s - loss: 1.4057e-05 - accuracy: 1.0000 - val_loss: 15.4301 - val_accuracy: 0.1260\n",
      "Epoch 76/100\n",
      "982/982 - 1s - loss: 1.3616e-05 - accuracy: 1.0000 - val_loss: 15.4495 - val_accuracy: 0.1260\n",
      "Epoch 77/100\n",
      "982/982 - 1s - loss: 1.3222e-05 - accuracy: 1.0000 - val_loss: 15.4704 - val_accuracy: 0.1260\n"
     ]
    },
    {
     "name": "stdout",
     "output_type": "stream",
     "text": [
      "Epoch 78/100\n",
      "982/982 - 1s - loss: 1.2815e-05 - accuracy: 1.0000 - val_loss: 15.4855 - val_accuracy: 0.1260\n",
      "Epoch 79/100\n",
      "982/982 - 1s - loss: 1.2448e-05 - accuracy: 1.0000 - val_loss: 15.5037 - val_accuracy: 0.1260\n",
      "Epoch 80/100\n",
      "982/982 - 1s - loss: 1.2079e-05 - accuracy: 1.0000 - val_loss: 15.5201 - val_accuracy: 0.1260\n",
      "Epoch 81/100\n",
      "982/982 - 1s - loss: 1.1732e-05 - accuracy: 1.0000 - val_loss: 15.5366 - val_accuracy: 0.1260\n",
      "Epoch 82/100\n",
      "982/982 - 1s - loss: 1.1395e-05 - accuracy: 1.0000 - val_loss: 15.5523 - val_accuracy: 0.1260\n",
      "Epoch 83/100\n",
      "982/982 - 1s - loss: 1.1071e-05 - accuracy: 1.0000 - val_loss: 15.5714 - val_accuracy: 0.1260\n",
      "Epoch 84/100\n",
      "982/982 - 1s - loss: 1.0760e-05 - accuracy: 1.0000 - val_loss: 15.5885 - val_accuracy: 0.1260\n",
      "Epoch 85/100\n",
      "982/982 - 1s - loss: 1.0458e-05 - accuracy: 1.0000 - val_loss: 15.6056 - val_accuracy: 0.1260\n",
      "Epoch 86/100\n",
      "982/982 - 1s - loss: 1.0169e-05 - accuracy: 1.0000 - val_loss: 15.6215 - val_accuracy: 0.1260\n",
      "Epoch 87/100\n",
      "982/982 - 1s - loss: 9.8822e-06 - accuracy: 1.0000 - val_loss: 15.6364 - val_accuracy: 0.1260\n",
      "Epoch 88/100\n",
      "982/982 - 1s - loss: 9.6104e-06 - accuracy: 1.0000 - val_loss: 15.6518 - val_accuracy: 0.1260\n",
      "Epoch 89/100\n",
      "982/982 - 1s - loss: 9.3542e-06 - accuracy: 1.0000 - val_loss: 15.6705 - val_accuracy: 0.1260\n",
      "Epoch 90/100\n",
      "982/982 - 1s - loss: 9.0958e-06 - accuracy: 1.0000 - val_loss: 15.6839 - val_accuracy: 0.1260\n",
      "Epoch 91/100\n",
      "982/982 - 1s - loss: 8.8560e-06 - accuracy: 1.0000 - val_loss: 15.7000 - val_accuracy: 0.1260\n",
      "Epoch 92/100\n",
      "982/982 - 1s - loss: 8.6193e-06 - accuracy: 1.0000 - val_loss: 15.7164 - val_accuracy: 0.1260\n",
      "Epoch 93/100\n",
      "982/982 - 1s - loss: 8.3874e-06 - accuracy: 1.0000 - val_loss: 15.7305 - val_accuracy: 0.1260\n",
      "Epoch 94/100\n",
      "982/982 - 1s - loss: 8.1710e-06 - accuracy: 1.0000 - val_loss: 15.7456 - val_accuracy: 0.1260\n",
      "Epoch 95/100\n",
      "982/982 - 1s - loss: 7.9603e-06 - accuracy: 1.0000 - val_loss: 15.7616 - val_accuracy: 0.1260\n",
      "Epoch 96/100\n",
      "982/982 - 1s - loss: 7.7525e-06 - accuracy: 1.0000 - val_loss: 15.7766 - val_accuracy: 0.1260\n",
      "Epoch 97/100\n",
      "982/982 - 1s - loss: 7.5489e-06 - accuracy: 1.0000 - val_loss: 15.7917 - val_accuracy: 0.1260\n",
      "Epoch 98/100\n",
      "982/982 - 1s - loss: 7.3558e-06 - accuracy: 1.0000 - val_loss: 15.8069 - val_accuracy: 0.1260\n",
      "Epoch 99/100\n",
      "982/982 - 1s - loss: 7.1731e-06 - accuracy: 1.0000 - val_loss: 15.8221 - val_accuracy: 0.1260\n",
      "Epoch 100/100\n",
      "982/982 - 1s - loss: 6.9940e-06 - accuracy: 1.0000 - val_loss: 15.8361 - val_accuracy: 0.1260\n"
     ]
    }
   ],
   "source": [
    "model.compile(loss='sparse_categorical_crossentropy', optimizer='adam', metrics=['accuracy'])\n",
    "num_epochs = 100\n",
    "history = model.fit(train_padded, train_labels, epochs=num_epochs, validation_data=(validation_padded, validation_labels), verbose=2)"
   ]
  },
  {
   "cell_type": "markdown",
   "metadata": {},
   "source": [
    "We trained the model for 100 epoch but only 10 would have been enough. \n",
    "As we can see after the 16th epoch there is no change in validation accuracy. \n",
    "Then plot the graphs of accuracy and loss. "
   ]
  },
  {
   "cell_type": "code",
   "execution_count": 24,
   "metadata": {},
   "outputs": [],
   "source": [
    "import matplotlib.pyplot as plt"
   ]
  },
  {
   "cell_type": "code",
   "execution_count": 25,
   "metadata": {},
   "outputs": [],
   "source": [
    "def plot_graphs(history, string):\n",
    "    plt.plot(history.history[string])\n",
    "    plt.plot(history.history['val_'+string])\n",
    "    plt.xlabel(\"Epochs\")\n",
    "    plt.ylabel(string)\n",
    "    plt.legend([string, 'val_'+string])\n",
    "    plt.show()"
   ]
  },
  {
   "cell_type": "code",
   "execution_count": 26,
   "metadata": {},
   "outputs": [
    {
     "data": {
      "image/png": "[encoded data removed]",
      "text/plain": [
       "<Figure size 432x288 with 1 Axes>"
      ]
     },
     "metadata": {
      "needs_background": "light"
     },
     "output_type": "display_data"
    },
    {
     "data": {
      "image/png": "[encoded data removed]",
      "text/plain": [
       "<Figure size 432x288 with 1 Axes>"
      ]
     },
     "metadata": {
      "needs_background": "light"
     },
     "output_type": "display_data"
    }
   ],
   "source": [
    "plot_graphs(history, \"accuracy\")\n",
    "plot_graphs(history, \"loss\")"
   ]
  }
 ],
 "metadata": {
  "kernelspec": {
   "display_name": "Python 3",
   "language": "python",
   "name": "python3"
  },
  "language_info": {
   "codemirror_mode": {
    "name": "ipython",
    "version": 3
   },
   "file_extension": ".py",
   "mimetype": "text/x-python",
   "name": "python",
   "nbconvert_exporter": "python",
   "pygments_lexer": "ipython3",
   "version": "3.7.4"
  }
 },
 "nbformat": 4,
 "nbformat_minor": 2
}
